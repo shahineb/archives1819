{
 "cells": [
  {
   "cell_type": "code",
   "execution_count": 1,
   "metadata": {},
   "outputs": [],
   "source": [
    "import numpy as np\n",
    "import arms\n",
    "import matplotlib.pyplot as plt"
   ]
  },
  {
   "cell_type": "markdown",
   "metadata": {},
   "source": [
    "__Bernoulli Multi-Arm Bandit definition__"
   ]
  },
  {
   "cell_type": "code",
   "execution_count": 110,
   "metadata": {},
   "outputs": [],
   "source": [
    "K = 6  # nr of arms\n",
    "SEED = 17  #  seed for reproducibility\n",
    "T = 5000\n",
    "np.random.seed(SEED)\n",
    "\n",
    "bernoulli_param = [np.random.rand() for i in range(K)]\n",
    "random_seed = [np.random.randint(1, 312414) for i in range(K)]\n",
    "\n",
    "bernoulli_MAB = [arms.ArmBernoulli(p=p, random_state=seed) for (p, seed) in zip(bernoulli_param, random_seed)]"
   ]
  },
  {
   "cell_type": "markdown",
   "metadata": {},
   "source": [
    "## Upper Confidence Bound"
   ]
  },
  {
   "cell_type": "code",
   "execution_count": 119,
   "metadata": {},
   "outputs": [],
   "source": [
    "def UCB1(T, MAB, rho):\n",
    "    def init_UCB1(T, MAB):\n",
    "        # get number of arms\n",
    "        K = len(MAB)\n",
    "    \n",
    "        # initialize loop variables at t=0\n",
    "        draws = np.zeros((K, T))  \n",
    "        reward = np.zeros((K, T))\n",
    "    \n",
    "        # initialize empirical mean\n",
    "        for i, arm in enumerate(MAB):\n",
    "            arm_draw = arm.sample()\n",
    "            reward[i, i] += arm_draw\n",
    "            draws[i, i] = 1\n",
    "        empiric_mean = np.sum(reward[:, :K], axis=1)  # no need to divide by nr_draws as = 1\n",
    "        \n",
    "        return K, draws, reward, empiric_mean\n",
    "    \n",
    "    def upper_confidence_bound(t, rho, empiric_mean, draws):\n",
    "        cum_draws = np.sum(draws[:, :t], axis=1)\n",
    "        foo = rho * np.sqrt(np.log(t) / (2 * cum_draws))\n",
    "        foo = empiric_mean + foo\n",
    "        return foo\n",
    "    \n",
    "    def iterate(t, rho, MAB, draws, reward, empiric_mean):\n",
    "        # Compute list of upper confidence bound values\n",
    "        upper_confidence_bounds = upper_confidence_bound(t, rho, empiric_mean, draws)\n",
    "        \n",
    "        # Select maximizing arm\n",
    "        arm_idx = np.argmax(upper_confidence_bounds)\n",
    "        \n",
    "        # Draw chosen arm\n",
    "        arm_draw = MAB[arm_idx].sample()\n",
    "        \n",
    "        # Update records\n",
    "        draws[arm_idx, t+1] = 1\n",
    "        reward[arm_idx, t+1] = arm_draw\n",
    "        cum_reward_arm = np.sum(reward[arm_idx, :t+1], axis=0)\n",
    "        cum_draws_arm = np.sum(draws[arm_idx, :t+1], axis=0)\n",
    "        empiric_mean[arm_idx] = cum_reward_arm / cum_draws_arm\n",
    "        \n",
    "        return draws, reward, empiric_mean\n",
    "    \n",
    "    # Initialize Bandit\n",
    "    K, draws, reward, empiric_mean = init_UCB1(T, MAB)\n",
    "    \n",
    "    # Iterate\n",
    "    for t in range(K, T-1):\n",
    "        draws, reward, empiric_mean = iterate(t, rho, MAB, draws, reward, empiric_mean)\n",
    "    \n",
    "    # Define output sequences\n",
    "    rew_sequence = np.sum(reward, axis=0)\n",
    "    draws_sequence = np.argmax(draws, axis=0)\n",
    "    \n",
    "    return rew_sequence, draws_sequence"
   ]
  },
  {
   "cell_type": "code",
   "execution_count": 120,
   "metadata": {
    "scrolled": true
   },
   "outputs": [],
   "source": [
    "rew_UCB1, draws_USB1 = UCB1(T, bernoulli_MAB, rho=.2)"
   ]
  },
  {
   "cell_type": "markdown",
   "metadata": {},
   "source": [
    "## Thompson Sampling"
   ]
  },
  {
   "cell_type": "code",
   "execution_count": 113,
   "metadata": {},
   "outputs": [],
   "source": [
    "from scipy.special import beta"
   ]
  },
  {
   "cell_type": "code",
   "execution_count": 121,
   "metadata": {},
   "outputs": [],
   "source": [
    "def TS(T, MAB):\n",
    "    def init_TS(T, MAB):\n",
    "        # get number of arms\n",
    "        K = len(MAB)\n",
    "    \n",
    "        # initialize loop variables at t=0\n",
    "        draws = np.zeros((K, T))  \n",
    "        reward = np.zeros((K, T))\n",
    "    \n",
    "        return draws, reward\n",
    "    \n",
    "    def iterate(t, MAB, draws, rewards):\n",
    "        # Setup beta function evaluation params set\n",
    "        cum_reward_t = np.sum(reward[:, :t], axis=1)\n",
    "        cum_draws_t = np.sum(draws[:, :t], axis=1)\n",
    "        a_param = cum_reward_t + 1\n",
    "        b_param = cum_draws_t - cum_reward_t + 1\n",
    "    \n",
    "        # Compute posteriors\n",
    "        posteriors = [beta(a, b) for a, b in zip(a_param, b_param)]\n",
    "    \n",
    "        # Select maximizing arm\n",
    "        arm_idx = np.argmax(posteriors)\n",
    "    \n",
    "        # Draw chosen arm\n",
    "        arm_draw = MAB[arm_idx].sample()\n",
    "    \n",
    "        # Update records\n",
    "        draws[arm_idx, t+1] = 1\n",
    "        reward[arm_idx, t+1] = arm_draw\n",
    "    \n",
    "        return draws, reward\n",
    "    \n",
    "    # Initialize Bandit\n",
    "    draws, reward = init_TS(T, MAB)\n",
    "    \n",
    "    # Iterate\n",
    "    for t in range(T-1):\n",
    "        draws, reward = iterate(t, MAB, draws, reward)\n",
    "        \n",
    "    # Define output sequences\n",
    "    rew_sequence = np.sum(reward, axis=0)\n",
    "    draws_sequence = np.argmax(draws, axis=0)\n",
    "    \n",
    "    return rew_sequence, draws_sequence     "
   ]
  },
  {
   "cell_type": "code",
   "execution_count": 122,
   "metadata": {},
   "outputs": [],
   "source": [
    "rew_TS, draws_TS = TS(T, bernoulli_MAB)"
   ]
  },
  {
   "cell_type": "markdown",
   "metadata": {},
   "source": [
    "## Naive Sampling"
   ]
  },
  {
   "cell_type": "code",
   "execution_count": 123,
   "metadata": {},
   "outputs": [],
   "source": [
    "def Naive(T, MAB):\n",
    "    def init_naive(T, MAB):\n",
    "        # get number of arms\n",
    "        K = len(MAB)\n",
    "    \n",
    "        # initialize loop variables at t=0\n",
    "        draws = np.zeros((K, T))  \n",
    "        reward = np.zeros((K, T))\n",
    "    \n",
    "        return draws, reward\n",
    "    \n",
    "    def iterate(t, MAB, draws, reward):\n",
    "        # Compute empirical mean\n",
    "        cum_reward_t = np.sum(reward[:, :t], axis=1)\n",
    "        cum_draws_t = np.sum(draws[:, :t], axis=1)\n",
    "        empirical_mean = cum_reward_t / cum_draws_t\n",
    "    \n",
    "        # Select maximizing arm\n",
    "        arm_idx = np.argmax(empirical_mean)\n",
    "    \n",
    "        # Draw chosen arm\n",
    "        arm_draw = MAB[arm_idx].sample()\n",
    "    \n",
    "        # Update records\n",
    "        draws[arm_idx, t+1] = 1\n",
    "        reward[arm_idx, t+1] = arm_draw\n",
    "    \n",
    "        return draws, reward\n",
    "    \n",
    "    # Initialize Bandit\n",
    "    draws, reward = init_naive(T, MAB)\n",
    "    \n",
    "    # Iterate\n",
    "    for t in range(T-1):\n",
    "        draws, reward = iterate(t, MAB, draws, reward)\n",
    "        \n",
    "    # Define output sequences\n",
    "    rew_sequence = np.sum(reward, axis=0)\n",
    "    draws_sequence = np.argmax(draws, axis=0)\n",
    "    \n",
    "    return rew_sequence, draws_sequence     "
   ]
  },
  {
   "cell_type": "code",
   "execution_count": 124,
   "metadata": {},
   "outputs": [
    {
     "name": "stderr",
     "output_type": "stream",
     "text": [
      "/Users/dieze/anaconda/envs/rl_env/lib/python3.6/site-packages/ipykernel_launcher.py:16: RuntimeWarning: invalid value encountered in true_divide\n",
      "  app.launch_new_instance()\n"
     ]
    }
   ],
   "source": [
    "rew_naive, draws_naive = Naive(T, bernoulli_MAB)"
   ]
  },
  {
   "cell_type": "markdown",
   "metadata": {},
   "source": [
    "### Regret Curves"
   ]
  },
  {
   "cell_type": "code",
   "execution_count": 125,
   "metadata": {},
   "outputs": [],
   "source": [
    "def regret_bernoulli(t, MAB, rew):\n",
    "    # Get mean of best bernoulli arm\n",
    "    means = [arm.mean for arm in MAB]\n",
    "    mean_max = np.max(means)\n",
    "    \n",
    "    # compute regret array\n",
    "    reg = mean_max * np.arange(1, t + 1) - np.cumsum(rew)\n",
    "    return reg"
   ]
  },
  {
   "cell_type": "code",
   "execution_count": 127,
   "metadata": {
    "scrolled": true
   },
   "outputs": [],
   "source": [
    "reg_UCB1 = regret_bernoulli(T, bernoulli_MAB, rew_UCB1)\n",
    "reg_TS = regret_bernoulli(T, bernoulli_MAB, rew_TS)\n",
    "reg_naive = regret_bernoulli(T, bernoulli_MAB, rew_naive)"
   ]
  },
  {
   "cell_type": "code",
   "execution_count": 128,
   "metadata": {},
   "outputs": [
    {
     "data": {
      "image/png": "[encoded data removed]",
      "text/plain": [
       "<Figure size 864x432 with 1 Axes>"
      ]
     },
     "metadata": {
      "needs_background": "light"
     },
     "output_type": "display_data"
    }
   ],
   "source": [
    "fig, ax = plt.subplots(figsize=(12,6))\n",
    "\n",
    "x = np.arange(1, T+1)\n",
    "ax.plot(x, reg_UCB1, label=\"UCB\", color=\"sandybrown\")\n",
    "ax.plot(x, reg_TS, label=\"Thompson\", color=\"steelblue\")\n",
    "ax.plot(x, reg_naive, label=\"Naive\", color=\"tomato\")\n",
    "ax.grid(alpha=0.3)\n",
    "ax.set_xlabel(\"Rounds\", size=14)\n",
    "ax.set_ylabel(\"Cumulative Regres\", size=14)\n",
    "\n",
    "plt.legend()\n",
    "plt.tight_layout()\n",
    "plt.show()"
   ]
  }
 ],
 "metadata": {
  "kernelspec": {
   "display_name": "Python 3",
   "language": "python",
   "name": "python3"
  },
  "language_info": {
   "codemirror_mode": {
    "name": "ipython",
    "version": 3
   },
   "file_extension": ".py",
   "mimetype": "text/x-python",
   "name": "python",
   "nbconvert_exporter": "python",
   "pygments_lexer": "ipython3",
   "version": "3.6.6"
  }
 },
 "nbformat": 4,
 "nbformat_minor": 2
}
