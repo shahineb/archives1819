{
 "cells": [
  {
   "cell_type": "markdown",
   "metadata": {},
   "source": [
    "# 2.3 Dimensionnement d'une poutre"
   ]
  },
  {
   "cell_type": "markdown",
   "metadata": {},
   "source": [
    "## 1) Methode Gloutonne"
   ]
  },
  {
   "cell_type": "markdown",
   "metadata": {},
   "source": [
    "Dans ce problème, il sera question d'optimisation multi-objectif puisque l'on cherche à minimiser à la fois le poids et la deflexion de la poutre sous certaines contraintes.\n",
    "\n",
    "Les fonctions qui donnent le poids et la deflexion de la poutre, étant faciles à évaluer, nous pouvons utiliser la méthode gloutonne (gourmande) dans laquelle il sera question de générer 100000 points qui réalisent les contraintes physiques imposées et de tracer un front de Pareto."
   ]
  },
  {
   "cell_type": "code",
   "execution_count": 1,
   "metadata": {
    "collapsed": true
   },
   "outputs": [],
   "source": [
    "import numpy as np\n",
    "import matplotlib.pyplot as plt\n",
    "import time \n",
    "import pandas as pd\n",
    "from scipy.optimize import minimize\n",
    "\n",
    "# On définit nos fonctions poids et deflexion\n",
    "\n",
    "def poids(a,b):\n",
    "    return a**2-b**2\n",
    "\n",
    "def deflexion(a,b):\n",
    "    return 0.001/(0.01+a**4-b**4)\n",
    "\n",
    "N=100000 #Nombre de points que nous allons générer\n",
    "\n",
    "# On definit nos 2 vecteurs aléatoires et nos 2 vecteurs de poids et de deflexion\n",
    "a = 0.02+0.98*np.random.rand(1,N)[0]\n",
    "b = (np.random.rand(1,N)*(a-0.01))[0]\n",
    "\n",
    "p = []\n",
    "d = []\n",
    "\n",
    "for i in range(N):\n",
    "    p.append(poids(a[i],b[i]))\n",
    "    d.append(deflexion(a[i],b[i]))\n",
    "\n",
    "p=np.array(p)\n",
    "d=np.array(d)\n"
   ]
  },
  {
   "cell_type": "markdown",
   "metadata": {},
   "source": [
    "La recherche des points Pareto Optimales se fait en 2 étapes:\n",
    "\n",
    "- Pour chaque point généré, on stocke sous forme de liste l'ensemble des points situés en bas et à gauche de lui (ayant un poids et une deflexion inférieurs à lui)\n",
    "\n",
    "- Si cette liste est vide, alors ce point est pareto-optimal. Dans le cas contraire, ce point n'est pas retenu"
   ]
  },
  {
   "cell_type": "markdown",
   "metadata": {},
   "source": [
    "$\\textbf{Version 1 :}$ : Version la plus gourmande"
   ]
  },
  {
   "cell_type": "code",
   "execution_count": null,
   "metadata": {},
   "outputs": [
    {
     "name": "stdout",
     "output_type": "stream",
     "text": [
      "5.917165994644165\n"
     ]
    },
    {
     "data": {
      "text/plain": [
       "<matplotlib.text.Text at 0x11b1832b0>"
      ]
     },
     "execution_count": 2,
     "metadata": {},
     "output_type": "execute_result"
    }
   ],
   "source": [
    "# Trouver l'ensemble de points appartenant à la courbe de Pareto\n",
    "pareto_opti=[]\n",
    "debut=time.time()\n",
    "for i in range(1000):\n",
    "    pi = p[i]\n",
    "    di = d[i]\n",
    "    \n",
    "    index1 = np.where(p < p[i])[0]\n",
    "    index2 = np.where(list(d[index1]) < d[i])[0]\n",
    "    \n",
    "    if(len(index2)==0):\n",
    "        pareto_opti.append(i)\n",
    "\n",
    "print(time.time()-debut)\n",
    "\n",
    "plt.figure(figsize=(10,8))\n",
    "plt.scatter(x=p,y=d,linewidths=0.001,marker='.')\n",
    "plt.scatter(x = list(p[pareto_opti]),y = list(d[pareto_opti]),c='red',marker='+',linewidths=10)\n",
    "plt.xlabel('Poids de la poutre')\n",
    "plt.ylabel('Deformation de la poutre')"
   ]
  },
  {
   "cell_type": "markdown",
   "metadata": {},
   "source": [
    "Si on simule 1000000 points avec cet algorithme initial, la recherche des points Pareto Optimal prend beaucoup de temps et n'est pas optimal. \n",
    "\n",
    "On va proposer une amélioration de l'algorithme précédent afin qu'il prenne moins de temps. L'idée ici est d'éliminer à chaque itération l'ensemble des points en haut à droite de ce point (tous ces points sont de facto dominés par le point que l'on étudie) afin de boucler sur moins de points au total.\n",
    "\n",
    "Avec 100000 points on arrive à un temps d'execution de 53 secondes, temps qui reste assez élevé.\n"
   ]
  },
  {
   "cell_type": "markdown",
   "metadata": {},
   "source": [
    "$\\textbf{Version 2 :}$ On élimine l'ensemble des points dominés par le point d'étude"
   ]
  },
  {
   "cell_type": "code",
   "execution_count": null,
   "metadata": {},
   "outputs": [],
   "source": [
    "# Trouver l'ensemble de points appartenant à la courbe de Pareto\n",
    "pareto_opti=[]\n",
    "debut=time.time()\n",
    "index=[i for i in range(N)]\n",
    "for i in range(N):   \n",
    "    if i in index:\n",
    "        pi = p[i]\n",
    "        di = d[i]\n",
    "        remove_value=np.where((p > p[i]) & (d > d[i]))[0]\n",
    "        index=[j for j in index if j not in remove_value]\n",
    "        index1 = np.where(p < p[i])[0]\n",
    "        index2 = np.where(list(d[index1]) < d[i])[0]\n",
    "    \n",
    "        if(len(index2)==0):\n",
    "            pareto_opti.append(i)\n",
    "print(time.time()-debut)            \n",
    "\n",
    "# Tracer le graphique\n",
    "\n",
    "plt.figure(figsize=(10,8))\n",
    "plt.scatter(x=p,y=d,linewidths=0.001,marker='.')\n",
    "plt.scatter(x = list(p[pareto_opti]),y = list(d[pareto_opti]),c='red',marker='+',linewidths=10)\n",
    "plt.xlabel('Poids de la poutre')\n",
    "plt.ylabel('Deformation de la poutre')"
   ]
  },
  {
   "cell_type": "markdown",
   "metadata": {},
   "source": [
    "En repensant à cette dernière amélioration, on se rend compte que la vitesse de l'algorithme est complètement determinée par les points initiaux: plus on élimine de points au début de l'algorithme et plus il sera rapide. Ainsi, en triant initialement nos points par ceux qui ont la plus petite déformation et le plus petit poids, on arrive à accélérer l'algorithme considérablement."
   ]
  },
  {
   "cell_type": "markdown",
   "metadata": {},
   "source": [
    "$\\textbf{Version 3 :}$ On optimise l'élimination des points précédents"
   ]
  },
  {
   "cell_type": "code",
   "execution_count": null,
   "metadata": {},
   "outputs": [],
   "source": [
    "# Trouver l'ensemble de points appartenant à la courbe de Pareto\n",
    "df=pd.DataFrame(data=p,columns={'Poids'})\n",
    "df['Deformation']=d\n",
    "df=df.sort_values(by=['Poids','Deformation']).reset_index(drop=True)\n",
    "\n",
    "pareto_opti=[]\n",
    "ini=[i for i in range(N)]\n",
    "df_index=pd.DataFrame(data=np.array(ini),columns={'ind'})\n",
    "debut=time.time()\n",
    "compt=0\n",
    "for i in df.index:  \n",
    "    \n",
    "    if i in df_index.index:\n",
    "        compt+=1\n",
    "        pi = df.loc[i,'Poids']\n",
    "        di = df.loc[i,'Deformation']\n",
    "        remove_index = df.loc[(df.Poids > p[i]) & (df.Deformation > d[i])].index\n",
    "        df_index = df_index.drop(labels=remove_index,errors='ignore')\n",
    "        index1 = df.loc[(df.Poids < pi) & (df.Deformation < di)].index\n",
    "    \n",
    "        if(len(index1)==0):\n",
    "            pareto_opti.append(i)\n",
    "    \n",
    "    else:\n",
    "        pass\n",
    "            \n",
    "print('Temps execution: ',time.time()-debut)\n",
    "print('Nombre entrée: ', compt)"
   ]
  },
  {
   "cell_type": "code",
   "execution_count": null,
   "metadata": {},
   "outputs": [],
   "source": [
    "plt.figure(figsize=(10,8))\n",
    "plt.scatter(x=df.Poids,y=df.Deformation,linewidths=0.001,marker='.')\n",
    "plt.scatter(x = df.loc[pareto_opti,'Poids'],y = df.loc[pareto_opti,'Deformation'],c='red',marker='+',linewidths=10)\n",
    "plt.xlabel('Poids de la poutre')\n",
    "plt.ylabel('Deformation de la poutre')\n",
    "plt.savefig(\"2_3.png\")"
   ]
  },
  {
   "cell_type": "markdown",
   "metadata": {},
   "source": [
    "## 2)Méthode plus sophistiquée:"
   ]
  },
  {
   "cell_type": "markdown",
   "metadata": {},
   "source": [
    "On transforme ici notre problème en problème mono-objectif:"
   ]
  },
  {
   "cell_type": "markdown",
   "metadata": {},
   "source": [
    "$$ \\underset{(a,b)}{\\min} : \\lambda*p(a,b)+d(a,b) $$"
   ]
  },
  {
   "cell_type": "markdown",
   "metadata": {},
   "source": [
    "On fait varier $\\lambda\\$ sur un intervalle afin de donner à chaque itération plus de poids à l'une des 2 fonctions que l'on cherche à minimiser et on résout plusieurs fois le problème de minimisation précédent.\n",
    "\n",
    "On notera que le problème de minimisation sous contraintes se fera en utilisant une méthode de type quasi Newton (SLSQP) dans laquelle on définira des bornes et des contraintes. Aussi, comme les solutions obtenus dépendent de notre point d'initialisation, on définira à chaque itération un x0 différent que l'on générera de manière random\n"
   ]
  },
  {
   "cell_type": "markdown",
   "metadata": {},
   "source": [
    "\n"
   ]
  },
  {
   "cell_type": "code",
   "execution_count": null,
   "metadata": {},
   "outputs": [],
   "source": [
    "# On définit la nouvelle fonction à minimiser \n",
    "def fmono(x,lamb):\n",
    "    return lamb*poids(x[0],x[1])+deflexion(x[0],x[1])\n",
    "\n",
    "debut=time.time()\n",
    "# On génére un vecteur de lambdas et on résout plusieurs fois le problème de minimisation\n",
    "bnds=tuple([[0.02,1],[0,None]])\n",
    "lam=np.linspace(0,10,5000)\n",
    "xmin=[]\n",
    "\n",
    "constraints=({'type': 'ineq', 'fun': lambda x:  x[0]-x[1]-0.01})\n",
    "for lamb in lam:\n",
    "        rand=np.random.rand(1)\n",
    "        x0=[rand,np.random.uniform(0,rand-0.01)]\n",
    "        xmin.append(minimize(fun=fmono,x0=x0,args=(lamb),method='SLSQP',constraints=constraints,bounds=bnds,tol=1e-6)['x'])\n",
    "\n",
    "print('Temps execution :', time.time()-debut)\n",
    "# On garde que les xmin qui vérifient les contraintes.\n",
    "df=pd.DataFrame(xmin,columns={'a','b'})\n",
    "df=df[df.b<=df.a-0.01]\n",
    "for index in df.index:\n",
    "    \n",
    "    df.loc[index,'Poids']=poids(df.loc[index,'a'],df.loc[index,'b'])\n",
    "    df.loc[index,'Deflexion']=deflexion(df.loc[index,'a'],df.loc[index,'b'])\n",
    "    \n",
    "# Plot\n",
    "plt.figure(figsize=(7,5))\n",
    "plt.scatter(df['Poids'],df['Deflexion'],linewidths=1e-8)\n",
    "plt.xlabel('Poids de la poutre')\n",
    "plt.ylabel('Deformation de la poutre')"
   ]
  },
  {
   "cell_type": "markdown",
   "metadata": {},
   "source": [
    "Quasiment tous les points trouvés ici font parties du front de  Pareto. On arrive à avoir une bonne approximation du front de Pareto avec seulement 5000 points. Certes, à chaque itération il faut résoudre un problème de minimisation sous contrainte, qui se fait plutôt rapidement pour le problème étudié ce qui rend cette méthode plus efficace pour le problème qu'on étudie."
   ]
  },
  {
   "cell_type": "markdown",
   "metadata": {},
   "source": [
    "$\\underline{\\text{Comparaison des 2 Méthodes:}}$\n",
    "\n",
    "Qualité de l'estimation: [Méthode Gloutonne : Très bonne estimation, Méthode Sophistiquée: Bonne estimation]\n",
    "\n",
    "Nombre d'évaluations des objectifs: [Méthode Gloutonne: 200000, Méthode Sophistiquée: 10000]\n",
    "\n",
    "Temps d'éxecution: [Méthode Gloutonne améliorée: 13.7s, Méthode Sophistiquée: 2.5s]\n"
   ]
  }
 ],
 "metadata": {
  "kernelspec": {
   "display_name": "Python 3",
   "language": "python",
   "name": "python3"
  },
  "language_info": {
   "codemirror_mode": {
    "name": "ipython",
    "version": 3
   },
   "file_extension": ".py",
   "mimetype": "text/x-python",
   "name": "python",
   "nbconvert_exporter": "python",
   "pygments_lexer": "ipython3",
   "version": "3.6.1"
  }
 },
 "nbformat": 4,
 "nbformat_minor": 2
}
