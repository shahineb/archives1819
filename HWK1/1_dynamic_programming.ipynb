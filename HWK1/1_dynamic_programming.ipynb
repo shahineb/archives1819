{
 "cells": [
  {
   "cell_type": "markdown",
   "metadata": {},
   "source": [
    "# 1) Dynamic Programming"
   ]
  },
  {
   "cell_type": "code",
   "execution_count": 7,
   "metadata": {},
   "outputs": [],
   "source": [
    "import numpy as np"
   ]
  },
  {
   "cell_type": "markdown",
   "metadata": {},
   "source": [
    "__1) Implement the discrete MDP model and guess the optimal policy__"
   ]
  },
  {
   "cell_type": "code",
   "execution_count": 12,
   "metadata": {},
   "outputs": [],
   "source": [
    "def bellman_operator(x, r, P, V, gamma):\n",
    "    \"\"\"Computes Bellman Operator application on V\n",
    "\n",
    "    Parameters\n",
    "    ----------\n",
    "    x : int\n",
    "        state index\n",
    "    r : numpy.array\n",
    "        reward matrix (n_states_, n_actions_)\n",
    "    P : numpy.array\n",
    "        transition probability matrix\n",
    "        (n_states_, n_actions_, n_states_)\n",
    "    V : numpy.array\n",
    "        state value function vector (n_states_,)\n",
    "    gamma : float\n",
    "        discount factor\n",
    "\n",
    "    Returns\n",
    "    -------\n",
    "    float\n",
    "        bellman_operator applied to V\n",
    "    \"\"\"\n",
    "    foo = r[x] + gamma*np.sum(P[x]*V, axis=1)\n",
    "    print (foo)\n",
    "    max_value = np.max(foo)\n",
    "    return max_value"
   ]
  },
  {
   "cell_type": "code",
   "execution_count": 15,
   "metadata": {},
   "outputs": [
    {
     "name": "stdout",
     "output_type": "stream",
     "text": [
      "[2.8207839  3.5835469  3.77181163]\n"
     ]
    },
    {
     "data": {
      "text/plain": [
       "3.7718116299384334"
      ]
     },
     "execution_count": 15,
     "metadata": {},
     "output_type": "execute_result"
    }
   ],
   "source": [
    "np.random.seed(17)\n",
    "\n",
    "n_states = 5\n",
    "n_actions = 3\n",
    "\n",
    "x = 1\n",
    "r = np.random.randn(n_states, n_actions)\n",
    "P = np.random.rand(n_states, n_actions, n_states)\n",
    "V = np.random.rand(n_states)\n",
    "gamma = 0.95\n",
    "\n",
    "bellman_operator(x, r, P, V, gamma)"
   ]
  },
  {
   "cell_type": "code",
   "execution_count": 32,
   "metadata": {},
   "outputs": [
    {
     "data": {
      "text/plain": [
       "[(0, 0, 0),\n",
       " (0, 0, 1),\n",
       " (0, 0, 2),\n",
       " (0, 1, 0),\n",
       " (0, 1, 1),\n",
       " (0, 1, 2),\n",
       " (0, 2, 0),\n",
       " (0, 2, 1),\n",
       " (0, 2, 2),\n",
       " (1, 0, 0),\n",
       " (1, 0, 1),\n",
       " (1, 0, 2),\n",
       " (1, 1, 0),\n",
       " (1, 1, 1),\n",
       " (1, 1, 2),\n",
       " (1, 2, 0),\n",
       " (1, 2, 1),\n",
       " (1, 2, 2),\n",
       " (2, 0, 0),\n",
       " (2, 0, 1),\n",
       " (2, 0, 2),\n",
       " (2, 1, 0),\n",
       " (2, 1, 1),\n",
       " (2, 1, 2),\n",
       " (2, 2, 0),\n",
       " (2, 2, 1),\n",
       " (2, 2, 2)]"
      ]
     },
     "execution_count": 32,
     "metadata": {},
     "output_type": "execute_result"
    }
   ],
   "source": [
    "import itertools\n",
    "actions = range(n_actions)\n",
    "[x for x in itertools.product(actions, actions, actions)]"
   ]
  },
  {
   "cell_type": "code",
   "execution_count": 21,
   "metadata": {},
   "outputs": [
    {
     "data": {
      "text/plain": [
       "array([[[0.15685357, 0.62204881, 0.17512918, 0.02070834, 0.02277283],\n",
       "        [0.0218782 , 0.56631644, 0.12233025, 0.02860434, 0.12545838],\n",
       "        [0.22495143, 0.06494142, 0.22807339, 0.02287479, 0.10212797]],\n",
       "\n",
       "       [[0.04692064, 0.35096871, 0.37160678, 0.11472995, 0.01025845],\n",
       "        [0.38051753, 0.51991576, 0.30079657, 0.10700361, 0.13396536],\n",
       "        [0.05304884, 0.6128004 , 0.35068636, 0.11934021, 0.00439999]],\n",
       "\n",
       "       [[0.15460682, 0.34486096, 0.21787764, 0.07092631, 0.01968265],\n",
       "        [0.38986257, 0.05181947, 0.24242134, 0.08357577, 0.14401597],\n",
       "        [0.0781971 , 0.0657188 , 0.36988337, 0.00225874, 0.12006056]],\n",
       "\n",
       "       [[0.30423985, 0.68778155, 0.38337777, 0.03940279, 0.03567149],\n",
       "        [0.12298059, 0.56442835, 0.03462351, 0.09720515, 0.12955712],\n",
       "        [0.27442003, 0.61919606, 0.14784269, 0.0316865 , 0.03702834]],\n",
       "\n",
       "       [[0.28808986, 0.05057762, 0.18988204, 0.07017868, 0.0967123 ],\n",
       "        [0.0420479 , 0.45240657, 0.40188972, 0.07420846, 0.08599041],\n",
       "        [0.39129751, 0.6568859 , 0.20846535, 0.01153409, 0.13144682]]])"
      ]
     },
     "execution_count": 21,
     "metadata": {},
     "output_type": "execute_result"
    }
   ],
   "source": [
    "P*P[0,0]"
   ]
  },
  {
   "cell_type": "code",
   "execution_count": 34,
   "metadata": {},
   "outputs": [
    {
     "name": "stdout",
     "output_type": "stream",
     "text": [
      "s0: ['right' 'down']\n",
      "s1: ['right' 'left']\n",
      "s2: ['right' 'down' 'left']\n",
      "s3: ['right']\n",
      "s4: ['down' 'up']\n",
      "s5: ['right' 'down' 'up']\n",
      "s6: ['right']\n",
      "s7: ['right' 'up']\n",
      "s8: ['right' 'left']\n",
      "s9: ['right' 'left' 'up']\n",
      "s10: ['left' 'up']\n"
     ]
    }
   ],
   "source": [
    "for i, el in enumerate(env.state_actions):\n",
    "        print(\"s{}: {}\".format(i, env.action_names[el]))"
   ]
  },
  {
   "cell_type": "code",
   "execution_count": 4,
   "metadata": {},
   "outputs": [],
   "source": [
    "pol = [0, 0, 0, 0, 1, 1, 0, 0, 0, 0, 3]"
   ]
  },
  {
   "cell_type": "code",
   "execution_count": 5,
   "metadata": {},
   "outputs": [],
   "source": [
    "gui.render_policy(env, pol)\n"
   ]
  },
  {
   "cell_type": "code",
   "execution_count": 4,
   "metadata": {},
   "outputs": [],
   "source": [
    "env.render = True\n",
    "state = 0\n",
    "fps = 0.5\n",
    "for i in range(5):\n",
    "        action = np.random.choice(env.state_actions[state])\n",
    "        nexts, reward, term = env.step(state,action)\n",
    "        state = nexts\n",
    "        time.sleep(1./fps)"
   ]
  },
  {
   "cell_type": "code",
   "execution_count": 3,
   "metadata": {},
   "outputs": [],
   "source": [
    "max_act = max(map(len, env.state_actions))\n",
    "q = np.random.rand(env.n_states, max_act)\n",
    "gui.render_q(env, q)"
   ]
  },
  {
   "cell_type": "code",
   "execution_count": null,
   "metadata": {},
   "outputs": [],
   "source": []
  }
 ],
 "metadata": {
  "kernelspec": {
   "display_name": "Python 3",
   "language": "python",
   "name": "python3"
  },
  "language_info": {
   "codemirror_mode": {
    "name": "ipython",
    "version": 3
   },
   "file_extension": ".py",
   "mimetype": "text/x-python",
   "name": "python",
   "nbconvert_exporter": "python",
   "pygments_lexer": "ipython3",
   "version": "3.6.6"
  }
 },
 "nbformat": 4,
 "nbformat_minor": 2
}
