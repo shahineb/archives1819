{
 "cells": [
  {
   "cell_type": "markdown",
   "metadata": {},
   "source": [
    "# 1) Dynamic Programming"
   ]
  },
  {
   "cell_type": "code",
   "execution_count": 1,
   "metadata": {},
   "outputs": [],
   "source": [
    "import numpy as np\n",
    "import time\n",
    "import matplotlib.pyplot as plt"
   ]
  },
  {
   "cell_type": "markdown",
   "metadata": {},
   "source": [
    "### 1) Discrete MDP implementation and guessed the optimal policy"
   ]
  },
  {
   "cell_type": "code",
   "execution_count": 2,
   "metadata": {
    "scrolled": true
   },
   "outputs": [],
   "source": [
    "from discrete_mdp import DiscreteMDP"
   ]
  },
  {
   "cell_type": "markdown",
   "metadata": {},
   "source": [
    "See `discrete_mdp.py` for implementation\n",
    "\n",
    "---\n",
    "\n",
    "Here, in order to maximize reward, we would want to be stuck in the loop  $s_{2}\\overset{a_{2}}{\\longrightarrow}s_{2}$. To do so by taking a path maxmizing reward, we would pick policy $\\pi^{*}=[a_{1}, a_{1}, a_{2}]$"
   ]
  },
  {
   "cell_type": "markdown",
   "metadata": {},
   "source": [
    "__Problem modelisation__"
   ]
  },
  {
   "cell_type": "markdown",
   "metadata": {},
   "source": [
    "Let $X$ our state space, $A$ the action space, $p(y\\mid x, a)$ the transition probability and $r(x,a)$ the reward"
   ]
  },
  {
   "cell_type": "markdown",
   "metadata": {},
   "source": [
    "> `states` and `actions` represent $X$ and $A$\n",
    "\n",
    "> `transition` is a $|X|\\times|A|\\times|X|$ matrix given by $P_{x, a, y} = p(y\\mid x, a)$\n",
    "\n",
    "> `reward` is a $|X|\\times|A|$ matrix given by $R_{x, a} = r(x, a)$\n",
    "\n",
    "> `my_policy` is the guessed optimal policy"
   ]
  },
  {
   "cell_type": "code",
   "execution_count": 3,
   "metadata": {},
   "outputs": [],
   "source": [
    "states = ['s0', 's1', 's2']\n",
    "actions = ['a0', 'a1', 'a2']\n",
    "\n",
    "transition = np.array([[[0.55, 0.45, 0.],[0.3, 0.7, 0.],[1., 0., 0.]],\n",
    "                        [[0., 1., 0.],[0., 0.4, 0.6],[0., 1., 0.]],\n",
    "                        [[0., 1., 0.],[0., 0.6, 0.4],[0., 0., 1.]]])\n",
    "\n",
    "reward = np.array([[0., 0., 0.05], \n",
    "                   [0., 0., 0.], \n",
    "                   [0., 1., 0.9]])\n",
    "\n",
    "my_policy = [1, 1, 2]"
   ]
  },
  {
   "cell_type": "code",
   "execution_count": 4,
   "metadata": {},
   "outputs": [],
   "source": [
    "mdp = DiscreteMDP(states_names = states, \n",
    "                  action_names = actions, \n",
    "                  transition_proba = transition, \n",
    "                  reward = reward, \n",
    "                  optimal_policy=my_policy)"
   ]
  },
  {
   "cell_type": "markdown",
   "metadata": {},
   "source": [
    "### 2) Value iteration"
   ]
  },
  {
   "cell_type": "markdown",
   "metadata": {},
   "source": [
    "Until $\\|V^{(k+1)}-V^{(k)}\\|_{\\infty} < \\varepsilon$ do :\n",
    "\n",
    "- $V^{(k+1)}\\leftarrow \\mathcal{T}V^{(k)} = \\underset{a\\in A}{\\max}\\left(R_{\\cdot,a} + \\gamma\\sum_{y\\in X}P_{\\cdot,a,y}V^{(k)}_{y}\\right)$\n",
    "\n",
    "Take $\\pi_{K} \\in \\underset{a\\in A}{Argmax}\\left(R_{\\cdot,a} + \\gamma\\sum_{y\\in X}P_{\\cdot,a,y}V^{(K)}_{y}\\right)$"
   ]
  },
  {
   "cell_type": "markdown",
   "metadata": {},
   "source": [
    "---\n",
    "\n",
    "Since $\\varepsilon=0.01$ and $\\gamma=0.95$, we would get an error lower than $\\frac{2\\varepsilon\\gamma}{1-\\gamma} = 0.38$"
   ]
  },
  {
   "cell_type": "code",
   "execution_count": 5,
   "metadata": {},
   "outputs": [],
   "source": [
    "opt_policy_vi, distance, n_iter = mdp.run_value_iteration(eps=0.01, track=True)"
   ]
  },
  {
   "cell_type": "code",
   "execution_count": 6,
   "metadata": {},
   "outputs": [
    {
     "name": "stdout",
     "output_type": "stream",
     "text": [
      "Value iteration 0.01-optimal policy : [1 1 2]\n"
     ]
    }
   ],
   "source": [
    "print(\"Value iteration 0.01-optimal policy :\", opt_policy_vi)"
   ]
  },
  {
   "cell_type": "code",
   "execution_count": 7,
   "metadata": {},
   "outputs": [
    {
     "data": {
      "image/png": "[encoded data removed]",
      "text/plain": [
       "<Figure size 864x432 with 1 Axes>"
      ]
     },
     "metadata": {
      "needs_background": "light"
     },
     "output_type": "display_data"
    }
   ],
   "source": [
    "fig, ax = plt.subplots(figsize=(12,6))\n",
    "\n",
    "ax.plot(range(n_iter), distance, '-o', markersize=5, color=\"steelblue\")\n",
    "ax.fill_between(range(n_iter), distance, color=\"steelblue\", alpha=0.1)\n",
    "ax.set_xlabel(r\"$iterations$\", size=16)\n",
    "ax.set_ylabel(r\"$|\\!|v^{k}-v^{*}\\|\\!|_{\\infty}$\", size=16)\n",
    "ax.grid(alpha=0.5)\n",
    "ax.set_title(\"Distance to optimal state value along iterations\")\n",
    "plt.tight_layout()"
   ]
  },
  {
   "cell_type": "markdown",
   "metadata": {},
   "source": [
    "### 3) Policy iteration"
   ]
  },
  {
   "cell_type": "markdown",
   "metadata": {},
   "source": [
    "Let $\\pi$ a given policy, with the previous notations, let $P^{\\pi}_{x,y} = P_{x,\\pi(x),y}$ and $r^{\\pi}_{x} = R_{x,\\pi(x)}$"
   ]
  },
  {
   "cell_type": "markdown",
   "metadata": {},
   "source": [
    "The policy iteration goess :\n",
    "\n",
    "Until $V^{\\pi_{k}}=V^{\\pi_{k+1}}$ :\n",
    "\n",
    "- $V^{\\pi_{k}} \\leftarrow (I-\\gamma P^{\\pi_{k}})^{-1}r^{\\pi_{k}}$\n",
    "- $\\pi_{k+1} \\leftarrow \\underset{\\pi\\in A^{X}}{\\text{Argmax}}\\left[r^{\\pi}+\\gamma P^{\\pi}V^{\\pi_{k}}\\right]$\n",
    "\n",
    "Take final $\\pi_{K}$ value"
   ]
  },
  {
   "cell_type": "markdown",
   "metadata": {},
   "source": [
    "To make sure we run the __exact__ policy iteration, we set `eps=0` and `max_iter=np.inf`"
   ]
  },
  {
   "cell_type": "code",
   "execution_count": 8,
   "metadata": {},
   "outputs": [
    {
     "name": "stderr",
     "output_type": "stream",
     "text": [
      "/Users/dieze/Documents/MVA/RL/homeworks/reinforcement_learning/HWK1/1_Dynamic_Programming/discrete_mdp.py:90: FutureWarning: Using a non-tuple sequence for multidimensional indexing is deprecated; use `arr[tuple(seq)]` instead of `arr[seq]`. In the future this will be interpreted as an array index, `arr[np.array(seq)]`, which will result either in an error or a different result.\n",
      "  reward = self.reward_[indexes]\n",
      "/Users/dieze/Documents/MVA/RL/homeworks/reinforcement_learning/HWK1/1_Dynamic_Programming/discrete_mdp.py:91: FutureWarning: Using a non-tuple sequence for multidimensional indexing is deprecated; use `arr[tuple(seq)]` instead of `arr[seq]`. In the future this will be interpreted as an array index, `arr[np.array(seq)]`, which will result either in an error or a different result.\n",
      "  transition_proba = self.transition_proba_[indexes]\n"
     ]
    }
   ],
   "source": [
    "initial_policy = [1,1,2]\n",
    "opt_policy_pi = mdp.run_policy_iteration(initial_policy=initial_policy, eps=0., max_iter=np.inf)"
   ]
  },
  {
   "cell_type": "code",
   "execution_count": 9,
   "metadata": {},
   "outputs": [
    {
     "name": "stdout",
     "output_type": "stream",
     "text": [
      "Exact policy iteration optimal policy : [1 1 2]\n"
     ]
    }
   ],
   "source": [
    "print(\"Exact policy iteration optimal policy :\", opt_policy_vi)"
   ]
  },
  {
   "cell_type": "markdown",
   "metadata": {},
   "source": [
    "__Performances comparison__"
   ]
  },
  {
   "cell_type": "markdown",
   "metadata": {},
   "source": [
    "To benchmark one method against the other, we set the same convergence criterion for both"
   ]
  },
  {
   "cell_type": "markdown",
   "metadata": {},
   "source": [
    "- Value Iteration"
   ]
  },
  {
   "cell_type": "code",
   "execution_count": 15,
   "metadata": {},
   "outputs": [],
   "source": [
    "mdp = DiscreteMDP(states_names = states, \n",
    "                  action_names = actions, \n",
    "                  transition_proba = transition, \n",
    "                  reward = reward, \n",
    "                  optimal_policy=my_policy)"
   ]
  },
  {
   "cell_type": "code",
   "execution_count": 16,
   "metadata": {},
   "outputs": [
    {
     "name": "stdout",
     "output_type": "stream",
     "text": [
      "CPU times: user 4.05 ms, sys: 850 µs, total: 4.9 ms\n",
      "Wall time: 4.2 ms\n"
     ]
    },
    {
     "data": {
      "text/plain": [
       "array([1, 1, 2])"
      ]
     },
     "execution_count": 16,
     "metadata": {},
     "output_type": "execute_result"
    }
   ],
   "source": [
    "%%time\n",
    "mdp.run_value_iteration(eps=0.01)"
   ]
  },
  {
   "cell_type": "code",
   "execution_count": 17,
   "metadata": {},
   "outputs": [
    {
     "name": "stdout",
     "output_type": "stream",
     "text": [
      "Number of iterations :  88\n"
     ]
    }
   ],
   "source": [
    "print(\"Number of iterations : \", mdp.iteration_)"
   ]
  },
  {
   "cell_type": "markdown",
   "metadata": {},
   "source": [
    "- Policy Iteration"
   ]
  },
  {
   "cell_type": "code",
   "execution_count": 12,
   "metadata": {},
   "outputs": [],
   "source": [
    "mdp = DiscreteMDP(states_names = states, \n",
    "                  action_names = actions, \n",
    "                  transition_proba = transition, \n",
    "                  reward = reward, \n",
    "                  optimal_policy=my_policy)"
   ]
  },
  {
   "cell_type": "code",
   "execution_count": 13,
   "metadata": {},
   "outputs": [
    {
     "name": "stdout",
     "output_type": "stream",
     "text": [
      "CPU times: user 1.95 ms, sys: 952 µs, total: 2.9 ms\n",
      "Wall time: 2.47 ms\n"
     ]
    },
    {
     "name": "stderr",
     "output_type": "stream",
     "text": [
      "/Users/dieze/Documents/MVA/RL/homeworks/reinforcement_learning/HWK1/1_Dynamic_Programming/discrete_mdp.py:90: FutureWarning: Using a non-tuple sequence for multidimensional indexing is deprecated; use `arr[tuple(seq)]` instead of `arr[seq]`. In the future this will be interpreted as an array index, `arr[np.array(seq)]`, which will result either in an error or a different result.\n",
      "  reward = self.reward_[indexes]\n",
      "/Users/dieze/Documents/MVA/RL/homeworks/reinforcement_learning/HWK1/1_Dynamic_Programming/discrete_mdp.py:91: FutureWarning: Using a non-tuple sequence for multidimensional indexing is deprecated; use `arr[tuple(seq)]` instead of `arr[seq]`. In the future this will be interpreted as an array index, `arr[np.array(seq)]`, which will result either in an error or a different result.\n",
      "  transition_proba = self.transition_proba_[indexes]\n"
     ]
    },
    {
     "data": {
      "text/plain": [
       "array([1, 1, 2])"
      ]
     },
     "execution_count": 13,
     "metadata": {},
     "output_type": "execute_result"
    }
   ],
   "source": [
    "%%time\n",
    "mdp.run_policy_iteration(eps=0.01)"
   ]
  },
  {
   "cell_type": "code",
   "execution_count": 14,
   "metadata": {},
   "outputs": [
    {
     "name": "stdout",
     "output_type": "stream",
     "text": [
      "Number of iterations :  4\n"
     ]
    }
   ],
   "source": [
    "print(\"Number of iterations : \", mdp.iteration_)"
   ]
  },
  {
   "cell_type": "markdown",
   "metadata": {},
   "source": [
    "- Conclusion :\n",
    "\n",
    "Policy iterations globally runs faster but with an iteration average time of 0.617ms compared to 46,0$\\mu$s for the value iteration. This is due the computational cost of the inversion for policy iteration that has a complexity of $\\mathcal{O}(N^{3})$ with the Gauss-Jordan algorithm. \n",
    "\n",
    "Since the transition matrix is 3x3 matrix here, this is still suitable against the cons of the value iteration, namely its asymptotic convergence. Still, when working with larger state and action spaces, we might want to reconsider."
   ]
  }
 ],
 "metadata": {
  "kernelspec": {
   "display_name": "Python 3",
   "language": "python",
   "name": "python3"
  },
  "language_info": {
   "codemirror_mode": {
    "name": "ipython",
    "version": 3
   },
   "file_extension": ".py",
   "mimetype": "text/x-python",
   "name": "python",
   "nbconvert_exporter": "python",
   "pygments_lexer": "ipython3",
   "version": "3.6.6"
  }
 },
 "nbformat": 4,
 "nbformat_minor": 2
}
