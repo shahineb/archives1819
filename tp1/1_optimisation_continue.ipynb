{
 "cells": [
  {
   "cell_type": "code",
   "execution_count": 1,
   "metadata": {
    "collapsed": true
   },
   "outputs": [],
   "source": [
    "import numpy as np\n",
    "import time\n",
    "from util import *\n",
    "from scipy.optimize import minimize, basinhopping\n",
    "import matplotlib.pyplot as plt\n",
    "import seaborn as sns\n",
    "import pandas as pd"
   ]
  },
  {
   "cell_type": "code",
   "execution_count": 2,
   "metadata": {
    "collapsed": true
   },
   "outputs": [],
   "source": [
    "A,B,S = definition_constantes()\n",
    "d=B.shape[0]\n",
    "x0 = np.ones((d,))"
   ]
  },
  {
   "cell_type": "markdown",
   "metadata": {},
   "source": [
    "### 1.1 OPTIMISATION SANS CONTRAINTES"
   ]
  },
  {
   "cell_type": "markdown",
   "metadata": {},
   "source": [
    "#### 1.1.1 Méthode du gradient"
   ]
  },
  {
   "cell_type": "markdown",
   "metadata": {},
   "source": [
    "_a)_"
   ]
  },
  {
   "cell_type": "code",
   "execution_count": 3,
   "metadata": {
    "collapsed": true
   },
   "outputs": [],
   "source": [
    "range_rho = [10**(-n) for n in range(-1, 8)]"
   ]
  },
  {
   "cell_type": "code",
   "execution_count": 4,
   "metadata": {},
   "outputs": [
    {
     "name": "stdout",
     "output_type": "stream",
     "text": [
      "Rho =  10\n"
     ]
    },
    {
     "name": "stderr",
     "output_type": "stream",
     "text": [
      "/Users/dieze/Documents/OMA/OPT/tp/continuous_discrete_optimization/tp1/util.py:203: RuntimeWarning: invalid value encountered in subtract\n",
      "  xnp1=xn-rho*dfx             # nouveau point courant (x_{n+1})\n"
     ]
    },
    {
     "name": "stdout",
     "output_type": "stream",
     "text": [
      "tps écoulé (gradient_rho_constant): 0.6644599437713623\n",
      "[nan nan nan nan nan]\n",
      "Nr iteration :  10000\n",
      "Nr appels fonction de coût :  10000\n",
      "--------------------\n",
      "Rho =  1\n",
      "tps écoulé (gradient_rho_constant): 0.6344959735870361\n",
      "[nan nan nan nan nan]\n",
      "Nr iteration :  10000\n",
      "Nr appels fonction de coût :  10000\n",
      "--------------------\n",
      "Rho =  0.1\n",
      "tps écoulé (gradient_rho_constant): 0.6325356960296631\n",
      "[nan nan nan nan nan]\n",
      "Nr iteration :  10000\n",
      "Nr appels fonction de coût :  10000\n",
      "--------------------\n",
      "Rho =  0.01\n",
      "tps écoulé (gradient_rho_constant): 0.05005383491516113\n",
      "[-0.68823504  0.15332241 -0.61439915  0.48960858 -0.04326259]\n",
      "Nr iteration :  641\n",
      "Nr appels fonction de coût :  641\n",
      "--------------------\n",
      "Rho =  0.001\n",
      "tps écoulé (gradient_rho_constant): 0.28641414642333984\n",
      "[-0.67112026  0.14320469 -0.61511994  0.47965764 -0.02088116]\n",
      "Nr iteration :  4742\n",
      "Nr appels fonction de coût :  4742\n",
      "--------------------\n",
      "Rho =  0.0001\n",
      "tps écoulé (gradient_rho_constant): 0.666860818862915\n",
      "[-0.35293621 -0.02639045 -0.6062164   0.2914062   0.36175569]\n",
      "Nr iteration :  10000\n",
      "Nr appels fonction de coût :  10000\n",
      "--------------------\n",
      "Rho =  1e-05\n",
      "tps écoulé (gradient_rho_constant): 0.6419510841369629\n",
      "[ 0.44789051  0.2004496  -0.03343084 -0.19402951  0.38404354]\n",
      "Nr iteration :  10000\n",
      "Nr appels fonction de coût :  10000\n",
      "--------------------\n",
      "Rho =  1e-06\n",
      "tps écoulé (gradient_rho_constant): 0.6616487503051758\n",
      "[1.05627867 0.75072568 0.44676852 0.49536067 0.59048866]\n",
      "Nr iteration :  10000\n",
      "Nr appels fonction de coût :  10000\n",
      "--------------------\n",
      "Rho =  1e-07\n",
      "tps écoulé (gradient_rho_constant): 0.6549081802368164\n",
      "[1.01601802 0.96731093 0.91958806 0.93355555 0.93967832]\n",
      "Nr iteration :  10000\n",
      "Nr appels fonction de coût :  10000\n",
      "--------------------\n"
     ]
    },
    {
     "data": {
      "text/plain": [
       "<matplotlib.legend.Legend at 0x12239de80>"
      ]
     },
     "execution_count": 4,
     "metadata": {},
     "output_type": "execute_result"
    }
   ],
   "source": [
    "# On teste la méthode du gradient avec plusieurs valeurs de rho\n",
    "datf=pd.DataFrame()\n",
    "for rho in range_rho:\n",
    "    print(\"Rho =  \" + str(rho))\n",
    "    debut = time.time()\n",
    "    GradResults=gradient_rho_constant(f1,df1,x0,rho=rho,tol=1e-6,args=(B,S))\n",
    "    datf=datf.append(GradResults,ignore_index=True)\n",
    "    tps_ecoule = time.time()-debut\n",
    "    print('tps écoulé (gradient_rho_constant):',tps_ecoule)\n",
    "    print(GradResults['minimum'])\n",
    "    print(\"Nr iteration : \", GradResults['iterations'])\n",
    "    print(\"Nr appels fonction de coût : \", GradResults['calls'])\n",
    "    print(\"--------------------\")\n",
    "\n",
    "fig, ax1 = plt.subplots()\n",
    "ax1.scatter(np.log(range_rho)/np.log(10),datf['calls'],linewidth=4.0,marker='.')\n",
    "color = 'tab:red'\n",
    "ax1.set_xlabel('log rho')\n",
    "ax1.set_ylabel('Nr appels fonction de coût')\n",
    "ax1.legend(['Nr appels'],loc=4)\n",
    "ax2 = ax1.twinx()\n",
    "ax2.scatter(np.log(range_rho)/np.log(10),datf['f_minimum'],color=color,linewidth=2.0,marker='.')\n",
    "ax2.set_ylabel('f minimum')\n",
    "ax2.legend(['f mini'],loc=7)"
   ]
  },
  {
   "cell_type": "markdown",
   "metadata": {},
   "source": [
    "- Pour $\\rho\\geq 0.1$, l'algorithme ne converge pas car le pas est trop grand: avec ce pas trop agressif on s'éloigne rapidement du minimum.\n",
    "- Pour $\\rho\\leq 10^{-4}$, l'algorithme converge toujours mais plus lentement car le pas est trop petit. On atteint alors le nombre max d'itération et l'algorithme s'arrête sur un point n'étant pas le minimum (flagrant pour $\\rho= 10^{-7}$ pour lequel le vecteur obtenu est très proche du vecteur d'initialisation)\n",
    "- Le nombre d'itération et d'appel à $f$ est minimal pour $\\rho=0.01$  (voir Graphique précédent)"
   ]
  },
  {
   "cell_type": "markdown",
   "metadata": {},
   "source": [
    "Essayons de trouver quel  $\\rho$ minimum permet à l'agorithme de converger\n"
   ]
  },
  {
   "cell_type": "code",
   "execution_count": 5,
   "metadata": {},
   "outputs": [
    {
     "name": "stderr",
     "output_type": "stream",
     "text": [
      "/Users/dieze/Documents/OMA/OPT/tp/continuous_discrete_optimization/tp1/util.py:203: RuntimeWarning: invalid value encountered in subtract\n",
      "  xnp1=xn-rho*dfx             # nouveau point courant (x_{n+1})\n",
      "/Users/dieze/Documents/OMA/OPT/tp/continuous_discrete_optimization/tp1/util.py:48: RuntimeWarning: invalid value encountered in subtract\n",
      "  fU = np.transpose(U) * S * U - np.transpose(B) * U;\n"
     ]
    },
    {
     "data": {
      "text/plain": [
       "['(rho=0.01,converged=True)',\n",
       " '(rho=0.02,converged=True)',\n",
       " '(rho=0.03,converged=False)',\n",
       " '(rho=0.04,converged=False)',\n",
       " '(rho=0.05,converged=False)',\n",
       " '(rho=0.06,converged=False)',\n",
       " '(rho=0.07,converged=False)',\n",
       " '(rho=0.08,converged=False)',\n",
       " '(rho=0.09,converged=False)']"
      ]
     },
     "execution_count": 5,
     "metadata": {},
     "output_type": "execute_result"
    }
   ],
   "source": [
    "# rho minimum permettant à l'algo de converger\n",
    "results=[]\n",
    "for rho in range(1,10):\n",
    "    rho=0.01*rho\n",
    "    results+=['(rho=%s,converged=%s)'%(rho,gradient_rho_constant(f1,df1,x0,rho=rho,tol=1e-6,args=(B,S))['converged'])]\n",
    "results"
   ]
  },
  {
   "cell_type": "markdown",
   "metadata": {},
   "source": [
    "Ainsi, on voit que l'algorithme converge pour un $\\rho$ compris entre 0,02 et 0,03 pour une initialisation à 1"
   ]
  },
  {
   "cell_type": "markdown",
   "metadata": {},
   "source": [
    "_b)_"
   ]
  },
  {
   "cell_type": "markdown",
   "metadata": {},
   "source": [
    "A chaque étape, si $f(x_{n+1})\\geq f(x_{n})$, on divise $\\rho$ par 2 pour réduire le pas. Au contraire, si $f(x_{n+1})<f(x_{n})$, on essaye de multiplier le pas par 2 pour avancer plus vite à la prochaine itération, quitte à devoir le rediviser par 2"
   ]
  },
  {
   "cell_type": "markdown",
   "metadata": {},
   "source": [
    "_c)_"
   ]
  },
  {
   "cell_type": "markdown",
   "metadata": {},
   "source": [
    "L'algorithme du gradient à rho adaptatif est à trouver dans le util.py"
   ]
  },
  {
   "cell_type": "code",
   "execution_count": 6,
   "metadata": {},
   "outputs": [
    {
     "name": "stdout",
     "output_type": "stream",
     "text": [
      "rho=100\n",
      "tps écoulé (gradient_rho_adaptatif): 0.030076265335083008\n",
      "[-0.67938135  0.14810218 -0.61532724  0.4843506  -0.03250685]\n",
      "Nr iteration :  413\n",
      "Nr appels fonction de coût :  413\n",
      "--------------------\n",
      "rho=0.001\n",
      "Méthode rho adaptatif : temps écoulé moyen=0.00222s , nombre itérations=376, nombre appels=376\n",
      "Méthode rho constant : temps écoulé moyen=0.02817s , nombre itérations=4742, nombre appels=4742\n"
     ]
    }
   ],
   "source": [
    "# On teste la convergence de la méthode du gradient à rho adaptatif avec plusieurs valeurs de rho\n",
    "rho_0 = 100 # pas initial\n",
    "debut = time.time()\n",
    "GradResults=gradient_rho_adaptatif(f1,df1,x0,rho=rho_0,tol=1e-6,args=(B,S))\n",
    "tps_ecoule = time.time()-debut\n",
    "print('rho=100')\n",
    "print('tps écoulé (gradient_rho_adaptatif):',tps_ecoule)\n",
    "print(GradResults['minimum'])\n",
    "print(\"Nr iteration : \", GradResults['iterations'])\n",
    "print(\"Nr appels fonction de coût : \", GradResults['calls'])\n",
    "print(\"--------------------\")\n",
    "\n",
    "# Comparer le temps écoulé et le nombre d'itérations pour un rho où les 2 méthodes convergent\n",
    "rho=0.001\n",
    "mean_time=0\n",
    "mean_time_ada=0\n",
    "\n",
    "for i in range(100):\n",
    "    debut = time.time()\n",
    "    GradResults1=gradient_rho_adaptatif(f1,df1,x0,rho=rho,tol=1e-6,args=(B,S))\n",
    "    mean_time_ada += time.time()-debut\n",
    "\n",
    "    debut = time.time()\n",
    "    GradResults2=gradient_rho_constant(f1,df1,x0,rho=rho,tol=1e-6,args=(B,S))\n",
    "    mean_time += time.time()-debut\n",
    "\n",
    "print('rho=0.001')\n",
    "\n",
    "print('Méthode rho adaptatif : temps écoulé moyen=%ss , nombre itérations=%s, nombre appels=%s' \n",
    "      %(np.round(mean_time_ada,2)/1000,GradResults1['iterations'],GradResults1['calls']) )\n",
    "                                                                                  \n",
    "print('Méthode rho constant : temps écoulé moyen=%ss , nombre itérations=%s, nombre appels=%s' \n",
    "      %(np.round(mean_time,2)/1000,GradResults2['iterations'],GradResults2['calls']) )\n",
    "\n"
   ]
  },
  {
   "cell_type": "markdown",
   "metadata": {},
   "source": [
    "L'algorithme converge alors même pour des valeurs de pas élevées et est de plus plus rapide car on se permet d'avancer plus vite lorsque \"tout va bien\". De plus, le pas étant adaptatif, le nombre d'itération et d'appel à la fonction de coût sont également minimisés (inférieur au meilleur choix de pas dans le cas d'un pas constant)\n",
    "\n",
    "A titre de comparaison pour un $\\rho\\$ égale à 0.001, la méthode à pas adaptatif est 12 plus rapide (basé sur un temps moyen à partir de 100 tests des 2 méthodes) et nécessite 10 fois moins d'itérations pour converger par rapport à celle à pas constant.\n"
   ]
  },
  {
   "cell_type": "markdown",
   "metadata": {
    "collapsed": true
   },
   "source": [
    "#### 1.1.2 Méthode de Quasi-Newton"
   ]
  },
  {
   "cell_type": "code",
   "execution_count": 7,
   "metadata": {
    "collapsed": true
   },
   "outputs": [],
   "source": [
    "# Define parameters of our 2 BFGS méthods (with and without gradient)\n",
    "\n",
    "params = {'fun': f1,\n",
    "          'x0': x0,\n",
    "          'args': (B,S),\n",
    "          'method': 'BFGS',\n",
    "          'tol': 1e-6}\n",
    "\n",
    "params2 = {'fun': f1,\n",
    "          'x0': x0,\n",
    "          'args': (B,S),\n",
    "          'jac': df1,\n",
    "          'method': 'BFGS',\n",
    "          'tol': 1e-6}"
   ]
  },
  {
   "cell_type": "code",
   "execution_count": 8,
   "metadata": {},
   "outputs": [
    {
     "name": "stdout",
     "output_type": "stream",
     "text": [
      "tps moyen écoulé (quasi_newton): 0.004177969932556152\n",
      "      fun: -1.836962311965233\n",
      " hess_inv: array([[ 0.50040349, -0.21246844,  0.05664411, -0.28040443,  0.50986112],\n",
      "       [-0.21246844,  0.22404883,  0.03713116,  0.1155053 , -0.34098648],\n",
      "       [ 0.05664411,  0.03713116,  0.12467837, -0.04888494, -0.09129158],\n",
      "       [-0.28040443,  0.1155053 , -0.04888494,  0.20487734, -0.28986203],\n",
      "       [ 0.50986112, -0.34098648, -0.09129158, -0.28986203,  0.77833052]])\n",
      "      jac: array([ 4.47034836e-08, -1.49011612e-08, -1.49011612e-08,  4.47034836e-08,\n",
      "        1.49011612e-08])\n",
      "  message: 'Optimization terminated successfully.'\n",
      "     nfev: 91\n",
      "      nit: 10\n",
      "     njev: 13\n",
      "   status: 0\n",
      "  success: True\n",
      "        x: array([-0.69603142,  0.15793136, -0.61407084,  0.49414157, -0.05345807])\n",
      "tps moyen écoulé (quasi_newton): 0.001853834629058838\n",
      "      fun: -1.8369623119652527\n",
      " hess_inv: array([[ 0.50042219, -0.21233772,  0.05679546, -0.28049279,  0.50949278],\n",
      "       [-0.21233772,  0.22392588,  0.0370806 ,  0.11546418, -0.34067513],\n",
      "       [ 0.05679546,  0.0370806 ,  0.12471797, -0.04898361, -0.09118664],\n",
      "       [-0.28049279,  0.11546418, -0.04898361,  0.20497422, -0.28972666],\n",
      "       [ 0.50949278, -0.34067513, -0.09118664, -0.28972666,  0.77755087]])\n",
      "      jac: array([-5.05031572e-11,  3.17657012e-11,  6.03770367e-11,  5.21584997e-11,\n",
      "        2.27362573e-11])\n",
      "  message: 'Optimization terminated successfully.'\n",
      "     nfev: 13\n",
      "      nit: 10\n",
      "     njev: 13\n",
      "   status: 0\n",
      "  success: True\n",
      "        x: array([-0.69603129,  0.15793131, -0.61407081,  0.4941415 , -0.05345794])\n"
     ]
    }
   ],
   "source": [
    "# Tester les 2 méthodes\n",
    "t=0\n",
    "for i in range(1000):\n",
    "    debut = time.time()\n",
    "    output = minimize(**params)\n",
    "    tps_ecoule = time.time()-debut\n",
    "    t+=tps_ecoule\n",
    "print('tps moyen écoulé (quasi_newton):',t/1000)\n",
    "print(output)\n",
    "\n",
    "t=0\n",
    "for i in range(1000):\n",
    "    debut = time.time()\n",
    "    output = minimize(**params2)\n",
    "    tps_ecoule = time.time()-debut\n",
    "    t+=tps_ecoule\n",
    "print('tps moyen écoulé (quasi_newton):',t/1000)\n",
    "print(output)\n"
   ]
  },
  {
   "cell_type": "markdown",
   "metadata": {},
   "source": [
    "Le temps écoulé pour que l'algorithme converge est différent à chaque test de l'algorithme. En le testant 1000 fois, on peut calculer un temps moyen écoulé\n",
    "\n",
    "Si on résume les résultats obtenus par les 4 méthodes:\n",
    "\n",
    "    Méthode rho constant : temps écoulé=0.22s , nombre itérations=4742, nombre appels=4742\n",
    "    Méthode rho adaptatif : temps écoulé=0.02s , nombre itérations=376, nombre appels=376\n",
    "    Méthode BFGS: temp moyen écoulé=0.003s, nombre itérations=10,nombre appels= 91\n",
    "    Méthode BFGS avec Gradient: temp moyen écoulé=0.001s, nombre itérations=10,nombre appels= 13\n",
    "\n",
    "L'algorithme BFGS distribué dans la librairiee `scipy.optimize` est 7 fois plus rapide (encore plus si le gradient est fourni) que l'algorithme à pas adaptatif et réduit considérablement le nombre d'itération (`nit`) et d'évaluation de $f$ (`nfev`)."
   ]
  },
  {
   "cell_type": "markdown",
   "metadata": {},
   "source": [
    "Solution Analytique:"
   ]
  },
  {
   "cell_type": "code",
   "execution_count": 9,
   "metadata": {},
   "outputs": [
    {
     "name": "stdout",
     "output_type": "stream",
     "text": [
      "Les valeurs propres de la matrice S est :\n"
     ]
    },
    {
     "data": {
      "text/plain": [
       "array([45.48200751, 14.49627115,  0.34399006,  1.89569112,  7.21954015])"
      ]
     },
     "execution_count": 9,
     "metadata": {},
     "output_type": "execute_result"
    }
   ],
   "source": [
    "#Trouver les valeurs propres de la matrice S\n",
    "print('Les valeurs propres de la matrice S est :')\n",
    "np.linalg.eigvals(S)"
   ]
  },
  {
   "cell_type": "markdown",
   "metadata": {},
   "source": [
    "### 1.2 OPTIMISATION SOUS CONTRAINTES"
   ]
  },
  {
   "cell_type": "markdown",
   "metadata": {},
   "source": [
    "> $\\mathcal{U}_{ad} = [0,1]^{5}$"
   ]
  },
  {
   "cell_type": "markdown",
   "metadata": {},
   "source": [
    "On calcule $\\nabla f_{2}(U) = \\exp(U) + U\\odot\\exp(U)$, où $\\odot$ représente le produit d'Hadamard"
   ]
  },
  {
   "cell_type": "markdown",
   "metadata": {},
   "source": [
    "#### 1.2.1 Optimisation à l’aide de routines Matlab (SQP)"
   ]
  },
  {
   "cell_type": "markdown",
   "metadata": {},
   "source": [
    "Definitions des contraintes"
   ]
  },
  {
   "cell_type": "code",
   "execution_count": 10,
   "metadata": {
    "collapsed": true
   },
   "outputs": [],
   "source": [
    "bnds = tuple([[0,1]]*5)"
   ]
  },
  {
   "cell_type": "markdown",
   "metadata": {},
   "source": [
    "> $f_{1}$"
   ]
  },
  {
   "cell_type": "code",
   "execution_count": 11,
   "metadata": {
    "collapsed": true
   },
   "outputs": [],
   "source": [
    "# Définir les paramètres de la méthode de minimisation\n",
    "params = {'fun': f1,\n",
    "          'x0': x0,\n",
    "          'args': (B,S),\n",
    "          'method': 'SLSQP',\n",
    "          'bounds': bnds,\n",
    "          'tol': 1e-6}"
   ]
  },
  {
   "cell_type": "code",
   "execution_count": 12,
   "metadata": {
    "scrolled": true
   },
   "outputs": [
    {
     "name": "stdout",
     "output_type": "stream",
     "text": [
      "tps écoulé (SQP): 0.011352062225341797\n",
      "     fun: -0.13853161426231198\n",
      "     jac: array([5.65140143e-01, 1.70478970e-03, 4.86906107e+00, 1.77650340e-03,\n",
      "       2.70384228e-01])\n",
      " message: 'Optimization terminated successfully.'\n",
      "    nfev: 65\n",
      "     nit: 9\n",
      "    njev: 9\n",
      "  status: 0\n",
      " success: True\n",
      "       x: array([4.02894141e-15, 1.26984958e-01, 4.02949540e-15, 1.94536143e-02,\n",
      "       0.00000000e+00])\n"
     ]
    }
   ],
   "source": [
    "# Test de la méthode SQP pour f1\n",
    "debut = time.time()\n",
    "output = minimize(**params)\n",
    "tps_ecoule = time.time()-debut\n",
    "print('tps écoulé (SQP):',tps_ecoule)\n",
    "print(output)"
   ]
  },
  {
   "cell_type": "markdown",
   "metadata": {},
   "source": [
    "> $f_{2}$"
   ]
  },
  {
   "cell_type": "code",
   "execution_count": 13,
   "metadata": {
    "collapsed": true
   },
   "outputs": [],
   "source": [
    "# Définir les paramètres de la méthode de minimisation\n",
    "params = {'fun': f2,\n",
    "          'x0': x0,\n",
    "          'args': (S),\n",
    "          'method': 'SLSQP',\n",
    "          'bounds': bnds,\n",
    "          'tol': 1e-6}"
   ]
  },
  {
   "cell_type": "code",
   "execution_count": 14,
   "metadata": {},
   "outputs": [
    {
     "name": "stdout",
     "output_type": "stream",
     "text": [
      "tps écoulé (SQP): 0.003297090530395508\n",
      "     fun: 1.251592448347702e-15\n",
      "     jac: array([1.00000018, 1.00000013, 1.00000035, 1.00000023, 1.00000022])\n",
      " message: 'Optimization terminated successfully.'\n",
      "    nfev: 28\n",
      "     nit: 4\n",
      "    njev: 4\n",
      "  status: 0\n",
      " success: True\n",
      "       x: array([0.00000000e+00, 0.00000000e+00, 1.25159245e-15, 0.00000000e+00,\n",
      "       0.00000000e+00])\n"
     ]
    }
   ],
   "source": [
    "# Test de la méthode SQP pour f2\n",
    "debut = time.time()\n",
    "output = minimize(**params)\n",
    "tps_ecoule = time.time()-debut\n",
    "print('tps écoulé (SQP):',tps_ecoule)\n",
    "print(output)"
   ]
  },
  {
   "cell_type": "markdown",
   "metadata": {},
   "source": [
    "Résumé Méthode SQP: \n",
    "\n",
    "$f_{1}$: nbr itérations=9 , nbr appels: 65, temps moyen=4ms, fmin= - 0.138\n",
    "    \n",
    "$f_{2}$: nbr itérations=4 , nbr appels: 28, temps moyen=4ms, fmin=0\n",
    "\n"
   ]
  },
  {
   "cell_type": "markdown",
   "metadata": {},
   "source": [
    "#### 1.2.2 Optimisation sous contraintes et pénalisation"
   ]
  },
  {
   "cell_type": "markdown",
   "metadata": {},
   "source": [
    "On définit $\\beta:\\mathbb{R}^{5}\\rightarrow\\mathbb{R}_{+}$ par : \n",
    "\n",
    "$$ \\beta(u) = \\sum_{i=1}^{5}\\left((u_{i}-1)^{+}\\right)^{2}+(-u_{i}^{+})^{2}$$\n",
    "\n",
    "Alors $\\beta$ nulle sur $\\mathcal{U}_{ad}$ et strictement positive partout ailleurs(voir implémentation dans `main.py`).\n",
    "La mise au carré des quantités dans $\\beta\\$ permettent d'assurer la dérivabilité aux bords\n",
    "\n",
    "\n",
    "On se ramène donc à un problème $(\\mathcal{P}_{\\varepsilon})$ sans contrainte avec pénalisation. On utilise l'algorithme BFGS pour le résoudre avant de faire tendre $\\varepsilon$ vers 0."
   ]
  },
  {
   "cell_type": "markdown",
   "metadata": {},
   "source": [
    "> $f_{1}^{penal} = f_{1} + \\frac{1}{\\varepsilon}\\beta$"
   ]
  },
  {
   "cell_type": "code",
   "execution_count": 15,
   "metadata": {
    "collapsed": true
   },
   "outputs": [],
   "source": [
    "# On définit plusieurs jeux de paramètres selon le epsilon choisi\n",
    "eps=3\n",
    "range_epsilon = [eps/10**i for i in range(0,10)]\n",
    "\n",
    "params = [{'fun': f1penal,\n",
    "          'x0': x0,\n",
    "          'args': (B,S,epsilon),\n",
    "          'method': 'BFGS',\n",
    "          'tol': 1e-6} for epsilon in range_epsilon]"
   ]
  },
  {
   "cell_type": "code",
   "execution_count": 16,
   "metadata": {},
   "outputs": [
    {
     "name": "stdout",
     "output_type": "stream",
     "text": [
      "Première itération: [valeur de x= [-0.51  0.1  -0.55  0.38  0.09], fmin=-1.607]\n",
      "Sixième itération[valeur de x= [-0.    0.13 -0.    0.02 -0.  ], fmin=-0.139]\n",
      "Dernière itération [valeur de x= [-0.    0.04 -0.    0.    0.04], fmin=-0.084]\n"
     ]
    }
   ],
   "source": [
    "# Stockage de l'ensemble des outputs\n",
    "reached_min = []\n",
    "reached_fmin = []\n",
    "for params_set in params:\n",
    "    output = minimize(**params_set)\n",
    "    reached_min += [output.x]\n",
    "    reached_fmin += [output['fun']]\n",
    "reached_min = np.array(reached_min)\n",
    "reached_fmin = np.array(reached_fmin)\n",
    "\n",
    "# Evolution de min f1penal en fonction du nombre d'itérations\n",
    "plt.scatter(np.linspace(0,10,10),reached_fmin)\n",
    "plt.title('Evolution of min f1penal')\n",
    "plt.xlabel(' # iteration')\n",
    "plt.ylabel('Min f1penal')\n",
    "print('Première itération: [valeur de x= %s, fmin=%s]' %(np.round(reached_min[0],2),round(reached_fmin[0],3)))\n",
    "print('Sixième itération[valeur de x= %s, fmin=%s]' %(np.round(reached_min[6],2),round(reached_fmin[6],3)))\n",
    "print('Dernière itération [valeur de x= %s, fmin=%s]' %(np.round(reached_min[-1],2),round(reached_fmin[-1],3)))"
   ]
  },
  {
   "cell_type": "markdown",
   "metadata": {},
   "source": [
    "On teste l'algorithme avec différentes valeurs de $\\epsilon$ en l'initialisation à 3, ensuite à chaque itération, on divise cette valeur par 10.\n",
    "\n",
    "On remarque 3 types de phénomènes en fonction de la valeur de $\\epsilon$ :\n",
    "\n",
    "- Aux premières itérations, qui correspondent à des valeurs \"grandes\" de eps ,le min de f obtenu est inférieur à celui obtenu par la méthode SQP et les contraintes ne sont plus respectées. La pénalisation n'est pas assez grand pour permettre de rester dans les contraintes.\n",
    "- Aux itérations suivantes, qui correspondent à des valeurs moyennes de eps, on arrive vers la solution trouvée précédemment avec un vecteur x qui respecte les contraintes\n",
    "- Aux dernières itérations, qui correspondent à des valeurs petites de eps, la pénalisation devient trop grande et on ne converge pas vers la bonne solution."
   ]
  },
  {
   "cell_type": "markdown",
   "metadata": {},
   "source": [
    "A la $6^{ème}$ itération, on arrive à des valeurs très similaires à celles obtenues avec l'algorithme SQP"
   ]
  },
  {
   "cell_type": "markdown",
   "metadata": {},
   "source": [
    "> $f_{2}^{penal} = f_{2} + \\frac{1}{\\varepsilon}\\beta$"
   ]
  },
  {
   "cell_type": "code",
   "execution_count": 17,
   "metadata": {
    "collapsed": true
   },
   "outputs": [],
   "source": [
    "# On définit plusieurs jeux de paramètres selon le epsilon choisi\n",
    "eps=3\n",
    "range_epsilon = [eps/5**i for i in range(0,30)]\n",
    "\n",
    "params = [{'fun': f2penal,\n",
    "          'x0': x0,\n",
    "          'args': (S,epsilon),\n",
    "          'method': 'BFGS',\n",
    "          'tol': 1e-6} for epsilon in range_epsilon]"
   ]
  },
  {
   "cell_type": "code",
   "execution_count": 18,
   "metadata": {},
   "outputs": [
    {
     "data": {
      "text/plain": [
       "<matplotlib.text.Text at 0x12234a0b8>"
      ]
     },
     "execution_count": 18,
     "metadata": {},
     "output_type": "execute_result"
    }
   ],
   "source": [
    "reached_min = []\n",
    "reached_fmin = []\n",
    "for params_set in params:\n",
    "    output = minimize(**params_set)\n",
    "    reached_min += [output.x]\n",
    "    reached_fmin += [output.fun]\n",
    "reached_min = np.array(reached_min)\n",
    "reached_fmin = np.array(reached_fmin)\n",
    "plt.scatter(np.linspace(0,30,30),reached_fmin)\n",
    "plt.title('Evolution of min f2penal')\n",
    "plt.xlabel('Iteration number')\n",
    "plt.ylabel('Min f2penal')"
   ]
  },
  {
   "cell_type": "markdown",
   "metadata": {},
   "source": [
    "#### 1.2.3 Méthodes duales pour l'optimisation sous contraintes"
   ]
  },
  {
   "cell_type": "markdown",
   "metadata": {},
   "source": [
    "_1)_"
   ]
  },
  {
   "cell_type": "markdown",
   "metadata": {},
   "source": [
    "Les contraintes d'inégalitee s'expriment sous la forme :\n",
    "> $g_{i}^{(0)}(U) = -U_{i}$\n",
    "\n",
    "et \n",
    "\n",
    "> $g_{i}^{(1)}(U) = U_{i}-1$\n",
    "\n",
    "\n",
    "En notant $A$ la matrice par bloc définie par $$ A = \\begin{bmatrix}\n",
    "-I_{5} & 0_{5}\\\\ \n",
    " 0_{5}& I_{5}\n",
    "\\end{bmatrix}$$\n",
    "\n",
    "Et $B$ le vecteur par bloc donné par \n",
    "\n",
    "$$ b = \\begin{bmatrix}\n",
    "0\\\\ \n",
    "1_{5}\n",
    "\\end{bmatrix}\n",
    "$$\n",
    "\n",
    "Le langrangien s'écrit :\n",
    "\n",
    "$$L_{1}(U, \\lambda) = f_{1}(U) + \\lambda^{T}(AU^{(2)}+b)$$\n",
    "\n",
    "Où $U^{(2)}$ résulte de la concatenation de $U$ avec lui même.\n",
    "\n",
    "Voir `main.py` pour l'implémentation"
   ]
  },
  {
   "cell_type": "markdown",
   "metadata": {},
   "source": [
    "_2)_"
   ]
  },
  {
   "cell_type": "markdown",
   "metadata": {},
   "source": [
    "Le gradient du laplacien est donné par :\n",
    "\n",
    "$$ \\nabla_{\\lambda} L_{1}(U, \\lambda) = AU^{(2)}+b $$"
   ]
  },
  {
   "cell_type": "code",
   "execution_count": 19,
   "metadata": {
    "collapsed": true
   },
   "outputs": [],
   "source": [
    "# Définition du gradient\n",
    "A_up = np.hstack([np.diag([1]*d), np.zeros((d,d))])\n",
    "A_down = np.hstack([np.zeros((d,d)), np.diag([-1]*d)])\n",
    "A = np.concatenate([A_up, A_down])\n",
    "b = np.concatenate([np.zeros(d), np.ones(d)])\n",
    "\n",
    "def gradient_L(x):\n",
    "    z=[]\n",
    "    return np.array([x[0]-1,x[1]-1,x[2]-1,x[3]-1,x[4]-1,-x[0],-x[1],-x[2],-x[3],-x[4]])"
   ]
  },
  {
   "cell_type": "markdown",
   "metadata": {},
   "source": [
    "Algorithme d'Uzawa à pas rho constant :"
   ]
  },
  {
   "cell_type": "code",
   "execution_count": 20,
   "metadata": {
    "collapsed": true
   },
   "outputs": [],
   "source": [
    "def uzawa(fun, gradient_L, x0,lambda_0, rho, tol):\n",
    "\n",
    "    itermax=10000  # nombre maximal d'itérations\n",
    "\n",
    "    xnm1=x0\n",
    "\n",
    "    lambda_n=lambda_0\n",
    "    \n",
    "    it=0         # compteur pour les itérations\n",
    "\n",
    "    f_calls=0    # compteur pour les appels a la fonction de cout\n",
    "\n",
    "    converged = False;\n",
    "\n",
    "    while (~converged & (it < itermax)):\n",
    "\n",
    "        it=it+1\n",
    "\n",
    "        problem=minimize(fun=L1_U,x0=x0,args=(B,S,lambda_n),method='BFGS',tol=1e-6)\n",
    "        \n",
    "        xn=problem['x']\n",
    "\n",
    "        f_calls += problem['nfev']\n",
    "        \n",
    "        if abs(f1(xn,B,S)-f1(xnm1,B,S))<tol:\n",
    "\n",
    "            converged = True\n",
    "\n",
    "        else:\n",
    "            grad=gradient_L(xn)\n",
    "            lambda_np1=projection(lambda_n+rho_0*grad)\n",
    "            lambda_n=lambda_np1 \n",
    "            xnm1=xn\n",
    "\n",
    "    GradResults = {\n",
    "\n",
    "            'initial_x':x0,\n",
    "\n",
    "            'minimum':xn,\n",
    "\n",
    "            'iterations':it,\n",
    "\n",
    "            'converged':converged,\n",
    "\n",
    "            'calls':f_calls,\n",
    "        \n",
    "            'fmin': f1(xn,B,S)\n",
    "\n",
    "            }\n",
    "\n",
    "    return GradResults"
   ]
  },
  {
   "cell_type": "code",
   "execution_count": 21,
   "metadata": {},
   "outputs": [
    {
     "name": "stdout",
     "output_type": "stream",
     "text": [
      "{'initial_x': array([1., 1., 1., 1., 1.]), 'minimum': array([ 1.23164832e-05,  1.26900971e-01, -1.50253415e-05,  1.94212090e-02,\n",
      "       -1.02056726e-05]), 'iterations': 443, 'converged': True, 'calls': 43414, 'fmin': -0.13860063529855093}\n",
      "temps écoule= 3.643446207046509\n"
     ]
    }
   ],
   "source": [
    "debut=time.time()\n",
    "lambda_0=np.ones(10)\n",
    "rho_0=0.9\n",
    "print(uzawa(L1_U, gradient_L, x0,lambda_0, rho_0, 1e-6))\n",
    "print('temps écoule= %s'%(time.time() - debut))"
   ]
  },
  {
   "cell_type": "markdown",
   "metadata": {},
   "source": [
    "Avec 442 itérations, on converge vers la solution donnée par l'algorithme SQP. Cependant, le temps pour converger (autour de 3 secondes est bien supérieur) à celui de l'algorithme SQP. Aussi, le nombre d'appels à la fonction est trop élévé (43316). Dans un cas où l'on travaillerait avec des matrices de taille bien plus importante, ce nombre élevé d'appel à la fonction pourrait ralentir considérablement l'algorithme.\n",
    "\n",
    "Toutes les valeurs relatives au nombre d'itérations, aux nombres d'appels à la fonction dépendent du `rho_0` choisi et du `lambda_0` initial"
   ]
  },
  {
   "cell_type": "markdown",
   "metadata": {},
   "source": [
    "### 1.3 OPTIMISATION NON CONVEXE - RECUIT SIMULÉ"
   ]
  },
  {
   "cell_type": "markdown",
   "metadata": {},
   "source": [
    "_a)_"
   ]
  },
  {
   "cell_type": "code",
   "execution_count": 22,
   "metadata": {
    "collapsed": true
   },
   "outputs": [],
   "source": [
    "# Definition de f3\n",
    "f3 = lambda U: f1(U,B,S) + 10*np.sin(2*f1(U,B,S))"
   ]
  },
  {
   "cell_type": "markdown",
   "metadata": {},
   "source": [
    "_b)_"
   ]
  },
  {
   "cell_type": "markdown",
   "metadata": {},
   "source": [
    "On définit 2000 points d'initialisation aléatoires puis on calcule le minimum obtenu par la méthode BFGS en partant de chacun. Le sinus introduisant de la non-convexité, on s'attend à rencontrer des minimums différents(locaux) à chaque fois."
   ]
  },
  {
   "cell_type": "code",
   "execution_count": 23,
   "metadata": {
    "collapsed": true
   },
   "outputs": [],
   "source": [
    "# On définit les points d'initialisation\n",
    "points_init = [2*np.random.randn(5) for i in range(2000)]"
   ]
  },
  {
   "cell_type": "code",
   "execution_count": 24,
   "metadata": {
    "collapsed": true
   },
   "outputs": [],
   "source": [
    "# Paramètres de la méthode\n",
    "params_BFGS = [{'fun': f3,\n",
    "                'x0': x0,\n",
    "                'method': 'BFGS',\n",
    "                'tol': 1e-6} for x0 in points_init]"
   ]
  },
  {
   "cell_type": "code",
   "execution_count": 25,
   "metadata": {},
   "outputs": [
    {
     "name": "stderr",
     "output_type": "stream",
     "text": [
      "/Users/dieze/anaconda/lib/python3.6/site-packages/scipy/stats/stats.py:1633: FutureWarning: Using a non-tuple sequence for multidimensional indexing is deprecated; use `arr[tuple(seq)]` instead of `arr[seq]`. In the future this will be interpreted as an array index, `arr[np.array(seq)]`, which will result either in an error or a different result.\n",
      "  return np.add.reduce(sorted[indexer] * weights, axis=axis) / sumval\n"
     ]
    },
    {
     "data": {
      "image/png": "[encoded data removed]",
      "text/plain": [
       "<matplotlib.figure.Figure at 0x1201f6f28>"
      ]
     },
     "metadata": {},
     "output_type": "display_data"
    },
    {
     "data": {
      "image/png": "[encoded data removed]",
      "text/plain": [
       "<matplotlib.figure.Figure at 0x1201f6b00>"
      ]
     },
     "metadata": {},
     "output_type": "display_data"
    }
   ],
   "source": [
    "# Stockage des outputs\n",
    "minimums = []\n",
    "\n",
    "for params_set in params_BFGS:\n",
    "    output = minimize(**params_set)\n",
    "    minimums += [f3(output.x)]\n",
    "\n",
    "#Graphique\n",
    "plt.figure(figsize=(8,6))\n",
    "sns.distplot(minimums, color = 'y', kde=False)\n",
    "plt.title(\"Distribution des valeurs de minimums atteints\")\n",
    "plt.show()"
   ]
  },
  {
   "cell_type": "code",
   "execution_count": 26,
   "metadata": {},
   "outputs": [
    {
     "name": "stdout",
     "output_type": "stream",
     "text": [
      "Plus petit minimum atteint :  -10.797900769519412\n"
     ]
    }
   ],
   "source": [
    "print(\"Plus petit minimum atteint : \", np.min(minimums))"
   ]
  },
  {
   "cell_type": "markdown",
   "metadata": {},
   "source": [
    "On constate que le point de convergence varie beaucoup en fonction du point d'initialisation, avec un mininum hypothétiquement global de -10.7979. Nous pourrions alors nous contenter d'optimiser $f_{3}$ depuis un grand nombre de point d'initialisation aléatoire et considérer que le minimum le plus récurrent est global, mais ce serait trop coûteux."
   ]
  },
  {
   "cell_type": "markdown",
   "metadata": {},
   "source": [
    "_c)_"
   ]
  },
  {
   "cell_type": "markdown",
   "metadata": {},
   "source": [
    "En python, nous utilisons `basinhopping` de la librairie `scipy.optimize` pour le recuit simulé selon le principe de Metropolis.\n",
    "\n",
    "On réalise une recherche de type GridSearch sur le paramètre de décroissance de la température, le nombre de transformation par palier et la taille du pas."
   ]
  },
  {
   "cell_type": "code",
   "execution_count": 27,
   "metadata": {
    "collapsed": true
   },
   "outputs": [],
   "source": [
    "range_T = [1, 10, 50, 100, 200]\n",
    "range_niter = [10, 25, 50]\n",
    "range_stepsize = [0.1, 1]"
   ]
  },
  {
   "cell_type": "code",
   "execution_count": 28,
   "metadata": {},
   "outputs": [
    {
     "name": "stderr",
     "output_type": "stream",
     "text": [
      "/Users/dieze/anaconda/lib/python3.6/site-packages/scipy/optimize/_basinhopping.py:299: RuntimeWarning: overflow encountered in exp\n",
      "  w = min(1.0, np.exp(-(energy_new - energy_old) * self.beta))\n"
     ]
    }
   ],
   "source": [
    "minimums = {}\n",
    "\n",
    "for T in range_T:\n",
    "    for niter in range_niter:\n",
    "        for stepsize in range_stepsize:\n",
    "            points_init = [2*np.random.randn(5) for i in range(20)]\n",
    "            params_anneal = [{'func': f3,\n",
    "                             'x0': x0,\n",
    "                             'minimizer_kwargs': {\"method\": \"L-BFGS-B\"},\n",
    "                             'stepsize': stepsize,\n",
    "                             'niter': niter,\n",
    "                             'T':T} for x0 in points_init]\n",
    "            for params_set in params_anneal:\n",
    "                output = basinhopping(**params_set)\n",
    "                min_reached = round(f3(output.x),3)\n",
    "                if min_reached in minimums.keys():\n",
    "                    minimums[min_reached].append((T, niter, stepsize, output.x))\n",
    "                else:\n",
    "                    minimums[min_reached] = [(T, niter, stepsize, output.x)]"
   ]
  },
  {
   "cell_type": "code",
   "execution_count": 29,
   "metadata": {},
   "outputs": [
    {
     "data": {
      "image/png": "[encoded data removed]",
      "text/plain": [
       "<matplotlib.figure.Figure at 0x1202efac8>"
      ]
     },
     "metadata": {},
     "output_type": "display_data"
    }
   ],
   "source": [
    "plt.bar(list(minimums.keys()), [len(minimums[key]) for key in minimums.keys() ])\n",
    "plt.title(\"Nombre d'occurence des mininums atteints\")\n",
    "plt.show()"
   ]
  },
  {
   "cell_type": "markdown",
   "metadata": {},
   "source": [
    "On constate qu'on obtient une distribution des minimums bien plus dense autour des plus petites valeurs de minimums obtenues, le plus petit minimum culminant à 10.798"
   ]
  },
  {
   "cell_type": "markdown",
   "metadata": {},
   "source": [
    "- Pour de faibles températures initiales, l’exploration ne se fait pas sur assez de zones et on tend à converger vers des minimums locaux. De même, si $T_{initial}$ trop élevé, l'exploration est trop dispersée et on ne termine pas nécessairement par converger vers notre minimum global. Un bon compromis semble être une température autour de 50/75 et environ 25 transformations par palier.\n",
    "\n",
    "- On note également que les points de convergences varient bien que le minimum atteint soit le même : il y a plusieurs minimums globaux"
   ]
  },
  {
   "cell_type": "markdown",
   "metadata": {},
   "source": [
    "### 1.4 APPLICATION SYNTHESE D'UN FILTRE À RÉPONSE IMPULSIONNELLE FINIE"
   ]
  },
  {
   "cell_type": "markdown",
   "metadata": {},
   "source": [
    "On se place dans $\\mathbb{R}^{20}$"
   ]
  },
  {
   "cell_type": "code",
   "execution_count": 36,
   "metadata": {
    "collapsed": true
   },
   "outputs": [],
   "source": [
    "n = 20\n",
    "seg1 = np.linspace(0, 0.1, 1000)\n",
    "seg2 = np.linspace(0.15, 0.5, 3200)\n",
    "seg = np.concatenate([seg1, seg2])"
   ]
  },
  {
   "cell_type": "markdown",
   "metadata": {},
   "source": [
    "_1)_"
   ]
  },
  {
   "cell_type": "markdown",
   "metadata": {},
   "source": [
    "On commence par essayer de minimiser $J$ selon une routine de Newton"
   ]
  },
  {
   "cell_type": "code",
   "execution_count": 37,
   "metadata": {
    "collapsed": true
   },
   "outputs": [],
   "source": [
    "np.random.seed(11)\n",
    "h0 = np.random.randn(n)\n",
    "params = {'fun': J,\n",
    "          'x0': h0,\n",
    "          'args': (seg, n),\n",
    "          'method': 'BFGS',\n",
    "          'tol': 1e-6}"
   ]
  },
  {
   "cell_type": "code",
   "execution_count": 38,
   "metadata": {
    "collapsed": true
   },
   "outputs": [],
   "source": [
    "output = minimize(**params)"
   ]
  },
  {
   "cell_type": "code",
   "execution_count": 39,
   "metadata": {},
   "outputs": [
    {
     "data": {
      "image/png": "[encoded data removed]",
      "text/plain": [
       "<matplotlib.figure.Figure at 0x1226ae6a0>"
      ]
     },
     "metadata": {},
     "output_type": "display_data"
    }
   ],
   "source": [
    "H0_seg = [H0(nu) for nu in seg]\n",
    "H_seg = [H(nu, output.x, n) for nu in seg]\n",
    "\n",
    "plt.figure(figsize=(8,6))\n",
    "plt.scatter(seg, H_seg, marker='.', color='tomato', label=r\"$H(\\nu)$\")\n",
    "plt.scatter(seg, H0_seg, marker='.', color='green', label=r\"$H_{0}(\\nu)$\")\n",
    "plt.legend(fontsize=14)\n",
    "plt.show()"
   ]
  },
  {
   "cell_type": "markdown",
   "metadata": {},
   "source": [
    "_2)_"
   ]
  },
  {
   "cell_type": "markdown",
   "metadata": {},
   "source": [
    "Pour cette partie, on peut transformer notre problème en un problème linéaire plus facile à résoudre"
   ]
  },
  {
   "cell_type": "markdown",
   "metadata": {},
   "source": [
    "$$ \\begin{array}{c}\n",
    "     \\underset{(h,\\gamma)}{\\min} :\\gamma\\ \\\\\\\n",
    "  sc : { H(v_{j}) \\le\\ H_{0}(v_{j}) + \\gamma\\ } \\\\\\\n",
    "    \\end{array}\n",
    "$$"
   ]
  }
 ],
 "metadata": {
  "kernelspec": {
   "display_name": "Python 3",
   "language": "python",
   "name": "python3"
  },
  "language_info": {
   "codemirror_mode": {
    "name": "ipython",
    "version": 3
   },
   "file_extension": ".py",
   "mimetype": "text/x-python",
   "name": "python",
   "nbconvert_exporter": "python",
   "pygments_lexer": "ipython3",
   "version": "3.6.1"
  }
 },
 "nbformat": 4,
 "nbformat_minor": 2
}
